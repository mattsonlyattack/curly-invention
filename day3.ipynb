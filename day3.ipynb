{
 "cells": [
  {
   "cell_type": "code",
   "execution_count": null,
   "metadata": {},
   "outputs": [],
   "source": [
    "#!value --name ruckSackContents --from-file rucksacks.txt"
   ]
  },
  {
   "cell_type": "code",
   "execution_count": 8,
   "metadata": {
    "dotnet_interactive": {
     "language": "csharp"
    },
    "polyglot_notebook": {
     "kernelName": "csharp"
    }
   },
   "outputs": [],
   "source": [
    "record RuckSack(int Id, string Contents)\n",
    "{\n",
    "    private int ContentsSize => Contents.Length;\n",
    "    \n",
    "    public char[] CompartmentOne =>\n",
    "        Contents.Take(ContentsSize/2).ToArray();\n",
    "\n",
    "    public int[] CompartmentOnePriorities =>\n",
    "        CompartmentOne.Select(Priority).ToArray();\n",
    "\n",
    "    public char[] CompartmentTwo =>\n",
    "        Contents.Skip(ContentsSize/2).ToArray();\n",
    "\n",
    "    public int[] CompartmentTwoPriorities =>\n",
    "        CompartmentTwo.Select(Priority).ToArray();\n",
    "\n",
    "    public char Duplicated =>\n",
    "        CompartmentOne.Where(c => CompartmentTwo.Contains(c)).First();\n",
    "\n",
    "    public static int Priority(char c) => ((int)c) > 90 ? (int)c-96 : ((int)c)-38;\n",
    "}\n"
   ]
  },
  {
   "cell_type": "code",
   "execution_count": 9,
   "metadata": {
    "dotnet_interactive": {
     "language": "csharp"
    },
    "polyglot_notebook": {
     "kernelName": "csharp"
    }
   },
   "outputs": [
    {
     "data": {
      "text/html": [
       "<div class=\"dni-plaintext\"><pre>True</pre></div><style>\r\n",
       ".dni-code-hint {\r\n",
       "    font-style: italic;\r\n",
       "    overflow: hidden;\r\n",
       "    white-space: nowrap;\r\n",
       "}\r\n",
       ".dni-treeview {\r\n",
       "    white-space: nowrap;\r\n",
       "}\r\n",
       ".dni-treeview td {\r\n",
       "    vertical-align: top;\r\n",
       "    text-align: start;\r\n",
       "}\r\n",
       "details.dni-treeview {\r\n",
       "    padding-left: 1em;\r\n",
       "}\r\n",
       "table td {\r\n",
       "    text-align: start;\r\n",
       "}\r\n",
       "table tr { \r\n",
       "    vertical-align: top; \r\n",
       "    margin: 0em 0px;\r\n",
       "}\r\n",
       "table tr td pre \r\n",
       "{ \r\n",
       "    vertical-align: top !important; \r\n",
       "    margin: 0em 0px !important;\r\n",
       "} \r\n",
       "table th {\r\n",
       "    text-align: start;\r\n",
       "}\r\n",
       "</style>"
      ]
     },
     "metadata": {},
     "output_type": "display_data"
    }
   ],
   "source": [
    "var sampleData =\n",
    "\"\"\"\n",
    "vJrwpWtwJgWrhcsFMMfFFhFp\n",
    "jqHRNqRjqzjGDLGLrsFMfFZSrLrFZsSL\n",
    "PmmdzqPrVvPwwTWBwg\n",
    "wMqvLMZHhHMvwLHjbvcjnnSBnvTQFn\n",
    "ttgJtRGJQctTZtZT\n",
    "CrZsJsPPZsGzwwsLwLmpwMDw\n",
    "\"\"\".Split(Environment.NewLine);\n",
    "\n",
    "var ruckSacks = sampleData.Select((s, i) => new RuckSack(i, s));\n",
    "var duplicatePriorities = ruckSacks.Select(r => RuckSack.Priority(r.Duplicated));\n",
    "duplicatePriorities.Sum() == 157\n"
   ]
  },
  {
   "cell_type": "code",
   "execution_count": 10,
   "metadata": {
    "dotnet_interactive": {
     "language": "csharp"
    },
    "polyglot_notebook": {
     "kernelName": "csharp"
    }
   },
   "outputs": [
    {
     "data": {
      "text/html": [
       "<table><thead><tr><th>Variable</th><th>Type</th><th>Value</th></tr></thead><tbody><tr><td>sampleData</td><td><span><a href=\"https://docs.microsoft.com/dotnet/api/system.string[]?view=net-7.0\">System.String[]</a></span></td><td><div class=\"dni-plaintext\"><pre>[ vJrwpWtwJgWrhcsFMMfFFhFp, jqHRNqRjqzjGDLGLrsFMfFZSrLrFZsSL, PmmdzqPrVvPwwTWBwg, wMqvLMZHhHMvwLHjbvcjnnSBnvTQFn, ttgJtRGJQctTZtZT, CrZsJsPPZsGzwwsLwLmpwMDw ]</pre></div></td></tr><tr><td>ruckSacks</td><td><span><a href=\"https://docs.microsoft.com/dotnet/api/system.linq.enumerable.&lt;selectiterator>d__224-2?view=net-7.0\">System.Linq.Enumerable+&lt;SelectIterator&gt;d__224&lt;System.String,Submission#7+RuckSack&gt;</a></span></td><td><div class=\"dni-plaintext\"><pre>&lt;SelectIterator&gt;d__224&lt;String,RuckSack&gt;\n",
       "          - Id: 0\n",
       "            Contents: vJrwpWtwJgWrhcsFMMfFFhFp\n",
       "            CompartmentOne: [ v, J, r, w, p, W, t, w, J, g, W, r ]\n",
       "            CompartmentOnePriorities: [ 22, 36, 18, 23, 16, 49, 20, 23, 36, 7, 49, 18 ]\n",
       "            CompartmentTwo: [ h, c, s, F, M, M, f, F, F, h, F, p ]\n",
       "            CompartmentTwoPriorities: [ 8, 3, 19, 32, 39, 39, 6, 32, 32, 8, 32, 16 ]\n",
       "            Duplicated: p\n",
       "          - Id: 1\n",
       "            Contents: jqHRNqRjqzjGDLGLrsFMfFZSrLrFZsSL\n",
       "            CompartmentOne: [ j, q, H, R, N, q, R, j, q, z, j, G, D, L, G, L ]\n",
       "            CompartmentOnePriorities: [ 10, 17, 34, 44, 40, 17, 44, 10, 17, 26, 10, 33, 30, 38, 33, 38 ]\n",
       "            CompartmentTwo: [ r, s, F, M, f, F, Z, S, r, L, r, F, Z, s, S, L ]\n",
       "            CompartmentTwoPriorities: [ 18, 19, 32, 39, 6, 32, 52, 45, 18, 38, 18, 32, 52, 19, 45, 38 ]\n",
       "            Duplicated: L\n",
       "          - Id: 2\n",
       "            Contents: PmmdzqPrVvPwwTWBwg\n",
       "            CompartmentOne: [ P, m, m, d, z, q, P, r, V ]\n",
       "            CompartmentOnePriorities: [ 42, 13, 13, 4, 26, 17, 42, 18, 48 ]\n",
       "            CompartmentTwo: [ v, P, w, w, T, W, B, w, g ]\n",
       "            CompartmentTwoPriorities: [ 22, 42, 23, 23, 46, 49, 28, 23, 7 ]\n",
       "            Duplicated: P\n",
       "          - Id: 3\n",
       "            Contents: wMqvLMZHhHMvwLHjbvcjnnSBnvTQFn\n",
       "            CompartmentOne: [ w, M, q, v, L, M, Z, H, h, H, M, v, w, L, H ]\n",
       "            CompartmentOnePriorities: [ 23, 39, 17, 22, 38, 39, 52, 34, 8, 34, 39, 22, 23, 38, 34 ]\n",
       "            CompartmentTwo: [ j, b, v, c, j, n, n, S, B, n, v, T, Q, F, n ]\n",
       "            CompartmentTwoPriorities: [ 10, 2, 22, 3, 10, 14, 14, 45, 28, 14, 22, 46, 43, 32, 14 ]\n",
       "            Duplicated: v\n",
       "          - Id: 4\n",
       "            Contents: ttgJtRGJQctTZtZT\n",
       "            CompartmentOne: [ t, t, g, J, t, R, G, J ]\n",
       "            CompartmentOnePriorities: [ 20, 20, 7, 36, 20, 44, 33, 36 ]\n",
       "            CompartmentTwo: [ Q, c, t, T, Z, t, Z, T ]\n",
       "            CompartmentTwoPriorities: [ 43, 3, 20, 46, 52, 20, 52, 46 ]\n",
       "            Duplicated: t\n",
       "          - Id: 5\n",
       "            Contents: CrZsJsPPZsGzwwsLwLmpwMDw\n",
       "            CompartmentOne: [ C, r, Z, s, J, s, P, P, Z, s, G, z ]\n",
       "            CompartmentOnePriorities: [ 29, 18, 52, 19, 36, 19, 42, 42, 52, 19, 33, 26 ]\n",
       "            CompartmentTwo: [ w, w, s, L, w, L, m, p, w, M, D, w ]\n",
       "            CompartmentTwoPriorities: [ 23, 23, 19, 38, 23, 38, 13, 16, 23, 39, 30, 23 ]\n",
       "            Duplicated: s</pre></div></td></tr><tr><td>duplicatePriorities</td><td><span><a href=\"https://docs.microsoft.com/dotnet/api/system.linq.enumerable.selectenumerableiterator-2?view=net-7.0\">System.Linq.Enumerable+SelectEnumerableIterator&lt;Submission#7+RuckSack,System.Int32&gt;</a></span></td><td><div class=\"dni-plaintext\"><pre>[ 16, 38, 42, 22, 20, 19 ]</pre></div></td></tr></tbody></table><style>\r\n",
       ".dni-code-hint {\r\n",
       "    font-style: italic;\r\n",
       "    overflow: hidden;\r\n",
       "    white-space: nowrap;\r\n",
       "}\r\n",
       ".dni-treeview {\r\n",
       "    white-space: nowrap;\r\n",
       "}\r\n",
       ".dni-treeview td {\r\n",
       "    vertical-align: top;\r\n",
       "    text-align: start;\r\n",
       "}\r\n",
       "details.dni-treeview {\r\n",
       "    padding-left: 1em;\r\n",
       "}\r\n",
       "table td {\r\n",
       "    text-align: start;\r\n",
       "}\r\n",
       "table tr { \r\n",
       "    vertical-align: top; \r\n",
       "    margin: 0em 0px;\r\n",
       "}\r\n",
       "table tr td pre \r\n",
       "{ \r\n",
       "    vertical-align: top !important; \r\n",
       "    margin: 0em 0px !important;\r\n",
       "} \r\n",
       "table th {\r\n",
       "    text-align: start;\r\n",
       "}\r\n",
       "</style>"
      ]
     },
     "metadata": {},
     "output_type": "display_data"
    }
   ],
   "source": [
    "#!whos"
   ]
  }
 ],
 "metadata": {
  "kernelspec": {
   "display_name": ".NET (C#)",
   "language": "C#",
   "name": ".net-csharp"
  },
  "polyglot_notebook": {
   "kernelInfo": {
    "defaultKernelName": "csharp",
    "items": [
     {
      "aliases": [],
      "name": "csharp"
     }
    ]
   }
  }
 },
 "nbformat": 4,
 "nbformat_minor": 2
}
