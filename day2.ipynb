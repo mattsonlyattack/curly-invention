{
 "cells": [
  {
   "cell_type": "code",
   "execution_count": 56,
   "metadata": {
    "dotnet_interactive": {
     "language": "csharp"
    },
    "polyglot_notebook": {
     "kernelName": "csharp"
    }
   },
   "outputs": [],
   "source": [
    "#!value --name strategyGuide --from-file strategy.txt"
   ]
  },
  {
   "cell_type": "code",
   "execution_count": 57,
   "metadata": {
    "dotnet_interactive": {
     "language": "csharp"
    },
    "polyglot_notebook": {
     "kernelName": "csharp"
    }
   },
   "outputs": [],
   "source": [
    "using System;\n",
    "\n",
    "readonly record struct OpponentChoice(string Value)\n",
    "{\n",
    "   public static implicit operator string(OpponentChoice choice) => choice.Value;\n",
    "   public static implicit operator OpponentChoice(string value) => new(value);\n",
    "}\n",
    "\n",
    "readonly record struct PredictedChoice(string Value)\n",
    "{\n",
    "   public static implicit operator string(PredictedChoice choice) => choice.Value;\n",
    "   public static implicit operator PredictedChoice(string value) => new(value);\n",
    "}\n",
    "\n",
    "readonly record struct StrategyChoice(string Value)\n",
    "{\n",
    "   public static implicit operator string(StrategyChoice choice) => choice.Value;\n",
    "   public static implicit operator StrategyChoice(string value) => new(value);\n",
    "}\n",
    "\n",
    "readonly record struct RoundStrategy(OpponentChoice opponent, StrategyChoice strategy);\n",
    "readonly record struct Round(OpponentChoice opponent, PredictedChoice prediction);\n",
    "\n",
    "Func<PredictedChoice, int> scorePrediction = p => p.Value switch\n",
    "{\n",
    "    \"X\" => 1,\n",
    "    \"Y\" => 2,\n",
    "    \"Z\" => 3,\n",
    "    _ => -1\n",
    "};\n",
    "\n",
    "Func<OpponentChoice, PredictedChoice> win = o => o.Value switch\n",
    "{\n",
    "    \"A\" => new (\"Y\"),\n",
    "    \"B\" => new (\"Z\"),\n",
    "    \"C\" => new (\"X\"),\n",
    "    _ => new (\"?\")\n",
    "};\n",
    "\n",
    "Func<OpponentChoice, PredictedChoice> lose = o => o.Value switch\n",
    "{\n",
    "    \"A\" => new (\"Z\"),\n",
    "    \"B\" => new (\"X\"),\n",
    "    \"C\" => new (\"Y\"),\n",
    "    _ => new (\"?\")\n",
    "};\n",
    "\n",
    "Func<OpponentChoice, PredictedChoice> draw = o => o.Value switch\n",
    "{\n",
    "    \"A\" => new (\"X\"),\n",
    "    \"B\" => new (\"Y\"),\n",
    "    \"C\" => new (\"Z\"),\n",
    "    _ => new (\"?\") \n",
    "};\n",
    "\n",
    "Func<OpponentChoice, Func<PredictedChoice, int>> scoreHand = o => p => o.Value switch\n",
    "{\n",
    "    \"A\" when p.Value == \"X\" => 3,\n",
    "    \"B\" when p.Value == \"Y\" => 3,\n",
    "    \"C\" when p.Value == \"Z\" => 3,\n",
    "    \"A\" when p.Value == \"Z\" => 0,\n",
    "    \"B\" when p.Value == \"X\" => 0,\n",
    "    \"C\" when p.Value == \"Y\" => 0,\n",
    "    \"C\" when p.Value == \"X\" => 6,\n",
    "    \"A\" when p.Value == \"Y\" => 6,\n",
    "    \"B\" when p.Value == \"Z\" => 6,\n",
    "    _ => -1\n",
    "};\n",
    "\n",
    "Func<OpponentChoice, Func<PredictedChoice, int>> totalScoreForRound = o => p =>\n",
    "    scorePrediction(p) + scoreHand(o)(p);\n",
    "\n",
    "Func<StrategyChoice, Func<OpponentChoice, PredictedChoice>> part1Strategy = s => _ => new PredictedChoice(s.Value);\n",
    "Func<StrategyChoice, Func<OpponentChoice, PredictedChoice>> part2Strategy = c => c.Value switch\n",
    "{\n",
    "    \"X\" => lose,\n",
    "    \"Y\" => draw,\n",
    "    \"Z\" => win,\n",
    "    _ => lose\n",
    "};\n",
    "\n",
    "var buildRounds = (string strategyGuide) =>\n",
    "    (Func<StrategyChoice, Func<OpponentChoice, PredictedChoice>> selectionStrategy) =>\n",
    "        strategyGuide\n",
    "            .Split(Environment.NewLine)\n",
    "            .Select(s =>\n",
    "            {\n",
    "                OpponentChoice opponent = s.Split(' ').First();\n",
    "                StrategyChoice strategy = s.Split(' ').Skip(1).First();\n",
    "                return new RoundStrategy(opponent, strategy);\n",
    "            })\n",
    "            .Select(r => new Round(r.opponent, selectionStrategy(r.strategy)(r.opponent)));\n",
    "\n",
    "var scoreGame = (IEnumerable<Round> rounds) =>\n",
    "    rounds\n",
    "        .Select(r => totalScoreForRound(r.opponent)(r.prediction))\n",
    "        .Sum();"
   ]
  },
  {
   "cell_type": "code",
   "execution_count": 58,
   "metadata": {
    "dotnet_interactive": {
     "language": "csharp"
    },
    "polyglot_notebook": {
     "kernelName": "csharp"
    }
   },
   "outputs": [
    {
     "data": {
      "text/html": [
       "<div class=\"dni-plaintext\"><pre>True</pre></div><style>\r\n",
       ".dni-code-hint {\r\n",
       "    font-style: italic;\r\n",
       "    overflow: hidden;\r\n",
       "    white-space: nowrap;\r\n",
       "}\r\n",
       ".dni-treeview {\r\n",
       "    white-space: nowrap;\r\n",
       "}\r\n",
       ".dni-treeview td {\r\n",
       "    vertical-align: top;\r\n",
       "    text-align: start;\r\n",
       "}\r\n",
       "details.dni-treeview {\r\n",
       "    padding-left: 1em;\r\n",
       "}\r\n",
       "table td {\r\n",
       "    text-align: start;\r\n",
       "}\r\n",
       "table tr { \r\n",
       "    vertical-align: top; \r\n",
       "    margin: 0em 0px;\r\n",
       "}\r\n",
       "table tr td pre \r\n",
       "{ \r\n",
       "    vertical-align: top !important; \r\n",
       "    margin: 0em 0px !important;\r\n",
       "} \r\n",
       "table th {\r\n",
       "    text-align: start;\r\n",
       "}\r\n",
       "</style>"
      ]
     },
     "metadata": {},
     "output_type": "display_data"
    }
   ],
   "source": [
    "// proof on sample data\n",
    "\n",
    "var sampleStrategy =\n",
    "\"\"\"\n",
    "A Y\n",
    "B X\n",
    "C Z\n",
    "\"\"\";\n",
    "\n",
    "var rounds = buildRounds(sampleStrategy)(part1Strategy);\n",
    "var totalScore = scoreGame(rounds);\n",
    "totalScore == 15"
   ]
  },
  {
   "cell_type": "code",
   "execution_count": 59,
   "metadata": {
    "dotnet_interactive": {
     "language": "csharp"
    },
    "polyglot_notebook": {
     "kernelName": "csharp"
    }
   },
   "outputs": [
    {
     "data": {
      "text/html": [
       "<div class=\"dni-plaintext\"><pre>14069</pre></div><style>\r\n",
       ".dni-code-hint {\r\n",
       "    font-style: italic;\r\n",
       "    overflow: hidden;\r\n",
       "    white-space: nowrap;\r\n",
       "}\r\n",
       ".dni-treeview {\r\n",
       "    white-space: nowrap;\r\n",
       "}\r\n",
       ".dni-treeview td {\r\n",
       "    vertical-align: top;\r\n",
       "    text-align: start;\r\n",
       "}\r\n",
       "details.dni-treeview {\r\n",
       "    padding-left: 1em;\r\n",
       "}\r\n",
       "table td {\r\n",
       "    text-align: start;\r\n",
       "}\r\n",
       "table tr { \r\n",
       "    vertical-align: top; \r\n",
       "    margin: 0em 0px;\r\n",
       "}\r\n",
       "table tr td pre \r\n",
       "{ \r\n",
       "    vertical-align: top !important; \r\n",
       "    margin: 0em 0px !important;\r\n",
       "} \r\n",
       "table th {\r\n",
       "    text-align: start;\r\n",
       "}\r\n",
       "</style>"
      ]
     },
     "metadata": {},
     "output_type": "display_data"
    }
   ],
   "source": [
    "#!share strategyGuide --from value\n",
    "\n",
    "// part 1\n",
    "var rounds = buildRounds(strategyGuide)(part1Strategy);\n",
    "var totalScore = scoreGame(rounds);\n",
    "totalScore"
   ]
  },
  {
   "cell_type": "code",
   "execution_count": 60,
   "metadata": {
    "dotnet_interactive": {
     "language": "csharp"
    },
    "polyglot_notebook": {
     "kernelName": "csharp"
    }
   },
   "outputs": [
    {
     "data": {
      "text/html": [
       "<div class=\"dni-plaintext\"><pre>True</pre></div><style>\r\n",
       ".dni-code-hint {\r\n",
       "    font-style: italic;\r\n",
       "    overflow: hidden;\r\n",
       "    white-space: nowrap;\r\n",
       "}\r\n",
       ".dni-treeview {\r\n",
       "    white-space: nowrap;\r\n",
       "}\r\n",
       ".dni-treeview td {\r\n",
       "    vertical-align: top;\r\n",
       "    text-align: start;\r\n",
       "}\r\n",
       "details.dni-treeview {\r\n",
       "    padding-left: 1em;\r\n",
       "}\r\n",
       "table td {\r\n",
       "    text-align: start;\r\n",
       "}\r\n",
       "table tr { \r\n",
       "    vertical-align: top; \r\n",
       "    margin: 0em 0px;\r\n",
       "}\r\n",
       "table tr td pre \r\n",
       "{ \r\n",
       "    vertical-align: top !important; \r\n",
       "    margin: 0em 0px !important;\r\n",
       "} \r\n",
       "table th {\r\n",
       "    text-align: start;\r\n",
       "}\r\n",
       "</style>"
      ]
     },
     "metadata": {},
     "output_type": "display_data"
    }
   ],
   "source": [
    "// part 2 proof on sample data\n",
    "\n",
    "var rounds = buildRounds(sampleStrategy)(part2Strategy);\n",
    "var totalScore = scoreGame(rounds);\n",
    "totalScore == 12"
   ]
  },
  {
   "cell_type": "code",
   "execution_count": 61,
   "metadata": {
    "dotnet_interactive": {
     "language": "csharp"
    },
    "polyglot_notebook": {
     "kernelName": "csharp"
    }
   },
   "outputs": [
    {
     "data": {
      "text/html": [
       "<div class=\"dni-plaintext\"><pre>12411</pre></div><style>\r\n",
       ".dni-code-hint {\r\n",
       "    font-style: italic;\r\n",
       "    overflow: hidden;\r\n",
       "    white-space: nowrap;\r\n",
       "}\r\n",
       ".dni-treeview {\r\n",
       "    white-space: nowrap;\r\n",
       "}\r\n",
       ".dni-treeview td {\r\n",
       "    vertical-align: top;\r\n",
       "    text-align: start;\r\n",
       "}\r\n",
       "details.dni-treeview {\r\n",
       "    padding-left: 1em;\r\n",
       "}\r\n",
       "table td {\r\n",
       "    text-align: start;\r\n",
       "}\r\n",
       "table tr { \r\n",
       "    vertical-align: top; \r\n",
       "    margin: 0em 0px;\r\n",
       "}\r\n",
       "table tr td pre \r\n",
       "{ \r\n",
       "    vertical-align: top !important; \r\n",
       "    margin: 0em 0px !important;\r\n",
       "} \r\n",
       "table th {\r\n",
       "    text-align: start;\r\n",
       "}\r\n",
       "</style>"
      ]
     },
     "metadata": {},
     "output_type": "display_data"
    }
   ],
   "source": [
    "#!share strategyGuide --from value\n",
    "\n",
    "// part 2\n",
    "var rounds = buildRounds(strategyGuide)(part2Strategy);\n",
    "var totalScore = scoreGame(rounds);\n",
    "totalScore"
   ]
  }
 ],
 "metadata": {
  "kernelspec": {
   "display_name": ".NET (C#)",
   "language": "C#",
   "name": ".net-csharp"
  },
  "polyglot_notebook": {
   "kernelInfo": {
    "defaultKernelName": "csharp",
    "items": [
     {
      "aliases": [
       "c#",
       "C#"
      ],
      "languageName": "C#",
      "name": "csharp"
     },
     {
      "aliases": [
       "frontend"
      ],
      "languageName": null,
      "name": "vscode"
     },
     {
      "aliases": [
       "js"
      ],
      "languageName": "JavaScript",
      "name": "javascript"
     }
    ]
   }
  }
 },
 "nbformat": 4,
 "nbformat_minor": 2
}
