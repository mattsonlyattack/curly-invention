{
 "cells": [
  {
   "cell_type": "code",
   "execution_count": 77,
   "metadata": {
    "dotnet_interactive": {
     "language": "csharp"
    },
    "polyglot_notebook": {
     "kernelName": "csharp"
    }
   },
   "outputs": [],
   "source": [
    "#!value --name strategyGuide --from-file strategy.txt"
   ]
  },
  {
   "cell_type": "code",
   "execution_count": 78,
   "metadata": {
    "dotnet_interactive": {
     "language": "csharp"
    },
    "polyglot_notebook": {
     "kernelName": "csharp"
    }
   },
   "outputs": [],
   "source": [
    "using System;\n",
    "using LanguageExt;\n",
    "\n",
    "readonly record struct OpponentChoice(string Value)\n",
    "{\n",
    "   public static implicit operator string(OpponentChoice choice) => choice.Value;\n",
    "   public static implicit operator OpponentChoice(string value) => new(value);\n",
    "}\n",
    "\n",
    "readonly record struct PredictedChoice(string Value)\n",
    "{\n",
    "   public static implicit operator string(PredictedChoice choice) => choice.Value;\n",
    "   public static implicit operator PredictedChoice(string value) => new(value);\n",
    "}\n",
    "\n",
    "readonly record struct StrategyChoice(string Value)\n",
    "{\n",
    "   public static implicit operator string(StrategyChoice choice) => choice.Value;\n",
    "   public static implicit operator StrategyChoice(string value) => new(value);\n",
    "}\n",
    "\n",
    "readonly record struct Round(OpponentChoice opponent, PredictedChoice prediction);\n",
    "\n",
    "var scorePrediction = (PredictedChoice p) => p.Value switch\n",
    "{\n",
    "    \"X\" => 1,\n",
    "    \"Y\" => 2,\n",
    "    \"Z\" => 3,\n",
    "    _ => -1\n",
    "};\n",
    "\n",
    "var win = (OpponentChoice o) => (PredictedChoice p) => o.Value switch\n",
    "{\n",
    "    \"A\" => \"Y\",\n",
    "    \"B\" => \"Z\",\n",
    "    \"C\" => \"X\",\n",
    "    _ => \"?\"\n",
    "};\n",
    "\n",
    "var lose = (OpponentChoice o) => (PredictedChoice p) => o.Value switch\n",
    "{\n",
    "    \"A\" => \"Z\",\n",
    "    \"B\" => \"X\",\n",
    "    \"C\" => \"Y\",\n",
    "    _ => \"?\"\n",
    "};\n",
    "\n",
    "var draw = (OpponentChoice o) => (PredictedChoice p) => o.Value;\n",
    "\n",
    "var scoreHand = (OpponentChoice o) => (PredictedChoice p) => o.Value switch\n",
    "{\n",
    "    \"A\" when p.Value == \"X\" => 3,\n",
    "    \"B\" when p.Value == \"Y\" => 3,\n",
    "    \"C\" when p.Value == \"Z\" => 3,\n",
    "    \"A\" when p.Value == \"Z\" => 0,\n",
    "    \"B\" when p.Value == \"X\" => 0,\n",
    "    \"C\" when p.Value == \"Y\" => 0,\n",
    "    \"C\" when p.Value == \"X\" => 6,\n",
    "    \"A\" when p.Value == \"Y\" => 6,\n",
    "    \"B\" when p.Value == \"Z\" => 6,\n",
    "    _ => -1\n",
    "};\n",
    "\n",
    "var totalScoreForRound = (OpponentChoice o) => (PredictedChoice p) =>\n",
    "    scorePrediction(p) + scoreHand(o)(p);\n",
    "\n",
    "var scoreGame = (string strategyGuide) =>\n",
    "    strategyGuide\n",
    "    .Split(Environment.NewLine)\n",
    "    .Select(s => {\n",
    "        OpponentChoice o = s.Split(' ').First();\n",
    "        PredictedChoice p = s.Split(' ').Skip(1).First();\n",
    "        return new Round(o, p);\n",
    "    })\n",
    "    .Select(r => totalScoreForRound(r.opponent)(r.prediction))\n",
    "    .Sum();"
   ]
  },
  {
   "cell_type": "code",
   "execution_count": 79,
   "metadata": {
    "dotnet_interactive": {
     "language": "csharp"
    },
    "polyglot_notebook": {
     "kernelName": "csharp"
    }
   },
   "outputs": [
    {
     "ename": "Error",
     "evalue": "(10,18): error CS0149: Method name expected",
     "output_type": "error",
     "traceback": [
      "(10,18): error CS0149: Method name expected"
     ]
    }
   ],
   "source": [
    "// proof on sample data\n",
    "\n",
    "var sampleStrategy =\n",
    "\"\"\"\n",
    "A Y\n",
    "B X\n",
    "C Z\n",
    "\"\"\";\n",
    "\n",
    "var totalScore = scoreGame(sampleStrategy);\n",
    "totalScore == 15"
   ]
  },
  {
   "cell_type": "code",
   "execution_count": 80,
   "metadata": {
    "dotnet_interactive": {
     "language": "csharp"
    },
    "polyglot_notebook": {
     "kernelName": "csharp"
    }
   },
   "outputs": [
    {
     "ename": "Error",
     "evalue": "(2,18): error CS0149: Method name expected",
     "output_type": "error",
     "traceback": [
      "(2,18): error CS0149: Method name expected"
     ]
    }
   ],
   "source": [
    "#!share strategyGuide --from value\n",
    "\n",
    "// part 1\n",
    "var totalScore = scoreGame(strategyGuide);\n",
    "totalScore"
   ]
  },
  {
   "cell_type": "code",
   "execution_count": 81,
   "metadata": {
    "dotnet_interactive": {
     "language": "csharp"
    },
    "polyglot_notebook": {
     "kernelName": "csharp"
    }
   },
   "outputs": [
    {
     "ename": "Error",
     "evalue": "(3,18): error CS0149: Method name expected",
     "output_type": "error",
     "traceback": [
      "(3,18): error CS0149: Method name expected"
     ]
    }
   ],
   "source": [
    "// part 2 proof on sample data\n",
    "\n",
    "var totalScore = scoreGame(sampleStrategy);\n",
    "totalScore == 12"
   ]
  }
 ],
 "metadata": {
  "kernelspec": {
   "display_name": ".NET (C#)",
   "language": "C#",
   "name": ".net-csharp"
  },
  "polyglot_notebook": {
   "kernelInfo": {
    "defaultKernelName": "csharp",
    "items": [
     {
      "aliases": [
       "c#",
       "C#"
      ],
      "languageName": "C#",
      "name": "csharp"
     },
     {
      "aliases": [
       "frontend"
      ],
      "languageName": null,
      "name": "vscode"
     },
     {
      "aliases": [
       "js"
      ],
      "languageName": "JavaScript",
      "name": "javascript"
     }
    ]
   }
  }
 },
 "nbformat": 4,
 "nbformat_minor": 2
}
