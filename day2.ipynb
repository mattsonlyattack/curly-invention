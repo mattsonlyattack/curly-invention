{
 "cells": [
  {
   "cell_type": "code",
   "execution_count": 13,
   "metadata": {
    "dotnet_interactive": {
     "language": "csharp"
    },
    "polyglot_notebook": {
     "kernelName": "csharp"
    }
   },
   "outputs": [
    {
     "data": {
      "text/html": [
       "<div><div></div><div></div><div><strong>Installed Packages</strong><ul><li><span>LanguageExt.Core, 4.4.0</span></li></ul></div></div>"
      ]
     },
     "metadata": {},
     "output_type": "display_data"
    }
   ],
   "source": [
    "#r \"nuget: LanguageExt.Core, 4.4.0\"\n",
    "\n",
    "\n",
    "#!value --name strategyGuide --from-file strategy.txt"
   ]
  },
  {
   "cell_type": "code",
   "execution_count": 22,
   "metadata": {
    "dotnet_interactive": {
     "language": "csharp"
    },
    "polyglot_notebook": {
     "kernelName": "csharp"
    }
   },
   "outputs": [],
   "source": [
    "using System;\n",
    "using LanguageExt;\n",
    "\n",
    "readonly record struct OpponentChoice(string Value)\n",
    "{\n",
    "   public static implicit operator string(OpponentChoice value) => value.Value;\n",
    "   public static implicit operator OpponentChoice(string value) => new(value);\n",
    "}\n",
    "\n",
    "readonly record struct PredictedChoice(string Value)\n",
    "{\n",
    "   public static implicit operator string(PredictedChoice value) => value.Value;\n",
    "   public static implicit operator PredictedChoice(string value) => new(value);\n",
    "}\n",
    "\n",
    "readonly record struct Round(OpponentChoice opponent, PredictedChoice prediction);\n",
    "\n",
    "var scorePrediction = (PredictedChoice p) => p.Value switch\n",
    "{\n",
    "    \"X\" => 1,\n",
    "    \"Y\" => 2,\n",
    "    \"Z\" => 3,\n",
    "    _ => -1\n",
    "};\n",
    "\n",
    "var scoreRound = (OpponentChoice o) => (PredictedChoice p) => new { Them = o.Value, Me = p.Value } switch\n",
    "{\n",
    "    { Them: \"A\", Me: \"X\" } => 3,\n",
    "    { Them: \"B\", Me: \"Y\" } => 3,\n",
    "    { Them: \"C\", Me: \"Z\" } => 3,\n",
    "    { Them: \"A\", Me: \"Z\" } => 0,\n",
    "    { Them: \"B\", Me: \"X\" } => 0,\n",
    "    { Them: \"C\", Me: \"Y\" } => 0,\n",
    "    { Them: \"C\", Me: \"X\" } => 6,\n",
    "    { Them: \"A\", Me: \"Y\" } => 6,\n",
    "    { Them: \"B\", Me: \"Z\" } => 6,\n",
    "    _ => -1\n",
    "};\n",
    "\n",
    "var totalScoreForRound = (OpponentChoice o) => (PredictedChoice p) =>\n",
    "    scorePrediction(p) + scoreRound(o)(p);\n",
    "\n",
    "var scoreGame = (string strategyGuide) =>\n",
    "    strategy\n",
    "    .Split(Environment.NewLine)\n",
    "    .Select(s => {\n",
    "        OpponentChoice o = s.Split(' ').First();\n",
    "        PredictedChoice p = s.Split(' ').Skip(1).First();\n",
    "        return new Round(o, p);\n",
    "    })\n",
    "    .Select(r => totalScoreForRound(r.opponent)(r.prediction))\n",
    "    .Sum();"
   ]
  },
  {
   "cell_type": "code",
   "execution_count": 23,
   "metadata": {
    "dotnet_interactive": {
     "language": "csharp"
    },
    "polyglot_notebook": {
     "kernelName": "csharp"
    }
   },
   "outputs": [
    {
     "data": {
      "text/html": [
       "<div class=\"dni-plaintext\"><pre>True</pre></div><style>\r\n",
       ".dni-code-hint {\r\n",
       "    font-style: italic;\r\n",
       "    overflow: hidden;\r\n",
       "    white-space: nowrap;\r\n",
       "}\r\n",
       ".dni-treeview {\r\n",
       "    white-space: nowrap;\r\n",
       "}\r\n",
       ".dni-treeview td {\r\n",
       "    vertical-align: top;\r\n",
       "    text-align: start;\r\n",
       "}\r\n",
       "details.dni-treeview {\r\n",
       "    padding-left: 1em;\r\n",
       "}\r\n",
       "table td {\r\n",
       "    text-align: start;\r\n",
       "}\r\n",
       "table tr { \r\n",
       "    vertical-align: top; \r\n",
       "    margin: 0em 0px;\r\n",
       "}\r\n",
       "table tr td pre \r\n",
       "{ \r\n",
       "    vertical-align: top !important; \r\n",
       "    margin: 0em 0px !important;\r\n",
       "} \r\n",
       "table th {\r\n",
       "    text-align: start;\r\n",
       "}\r\n",
       "</style>"
      ]
     },
     "metadata": {},
     "output_type": "display_data"
    }
   ],
   "source": [
    "// proof on sample data separator, int cou\n",
    "\n",
    "var sampleStrategy =\n",
    "\"\"\"\n",
    "A Y\n",
    "B X\n",
    "C Z\n",
    "\"\"\";\n",
    "\n",
    "var totalScore = sampleStrategy\n",
    "    .Split(Environment.NewLine)\n",
    "    .Select(s => {\n",
    "        OpponentChoice o = s.Split(' ').First();\n",
    "        PredictedChoice p = s.Split(' ').Skip(1).First();\n",
    "        return new Round(o, p);\n",
    "    })\n",
    "    .Select(r => totalScoreForRound(r.opponent)(r.prediction))\n",
    "    .Sum();\n",
    "\n",
    "totalScore == 15"
   ]
  },
  {
   "cell_type": "code",
   "execution_count": null,
   "metadata": {
    "dotnet_interactive": {
     "language": "csharp"
    },
    "polyglot_notebook": {
     "kernelName": "csharp"
    }
   },
   "outputs": [],
   "source": []
  }
 ],
 "metadata": {
  "kernelspec": {
   "display_name": ".NET (C#)",
   "language": "C#",
   "name": ".net-csharp"
  },
  "polyglot_notebook": {
   "kernelInfo": {
    "defaultKernelName": "csharp",
    "items": [
     {
      "aliases": [
       "c#",
       "C#"
      ],
      "languageName": "C#",
      "name": "csharp"
     },
     {
      "aliases": [
       "frontend"
      ],
      "languageName": null,
      "name": "vscode"
     },
     {
      "aliases": [
       "js"
      ],
      "languageName": "JavaScript",
      "name": "javascript"
     }
    ]
   }
  }
 },
 "nbformat": 4,
 "nbformat_minor": 2
}
